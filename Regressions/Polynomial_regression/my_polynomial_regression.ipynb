{
 "nbformat": 4,
 "nbformat_minor": 0,
 "metadata": {
  "colab": {
   "name": "polynomial_regression.ipynb",
   "provenance": [],
   "collapsed_sections": [],
   "toc_visible": true,
   "authorship_tag": "ABX9TyMLrtB0Kmy82otxgYKZqyGa"
  },
  "kernelspec": {
   "name": "python3",
   "language": "python",
   "display_name": "Python 3"
  }
 },
 "cells": [
  {
   "cell_type": "markdown",
   "metadata": {
    "id": "vN99YjPTDena",
    "colab_type": "text"
   },
   "source": [
    "# Polynomial Regression"
   ]
  },
  {
   "cell_type": "markdown",
   "metadata": {
    "id": "ZIx_naXnDyHd",
    "colab_type": "text"
   },
   "source": [
    "## Importing the libraries"
   ]
  },
  {
   "cell_type": "code",
   "metadata": {
    "id": "FjnmdyPLD2tS",
    "colab_type": "code",
    "colab": {}
   },
   "source": [
    "import numpy as np\n",
    "import matplotlib.pyplot as plt\n",
    "import pandas as pd\n"
   ],
   "execution_count": 10,
   "outputs": []
  },
  {
   "cell_type": "markdown",
   "metadata": {
    "id": "6c8YExmOD5x5",
    "colab_type": "text"
   },
   "source": [
    "## Importing the dataset"
   ]
  },
  {
   "cell_type": "code",
   "metadata": {
    "id": "nQOdXhjXD_AE",
    "colab_type": "code",
    "colab": {}
   },
   "source": [
    "dataset = pd.read_csv('Position_Salaries.csv')\n",
    "X = dataset.iloc[:, 1:-1].values\n",
    "y = dataset.iloc[:, -1].values\n"
   ],
   "execution_count": 11,
   "outputs": []
  },
  {
   "cell_type": "markdown",
   "metadata": {
    "id": "Le8SEL-YEOLb",
    "colab_type": "text"
   },
   "source": [
    "## Training the Linear Regression model on the whole dataset"
   ]
  },
  {
   "cell_type": "code",
   "metadata": {
    "id": "2eZ4xxbKEcBk",
    "colab_type": "code",
    "colab": {
     "base_uri": "https://localhost:8080/",
     "height": 35
    },
    "outputId": "41074f6d-44c7-4a04-fd49-14bda9fb2885",
    "executionInfo": {
     "status": "ok",
     "timestamp": 1587538036471,
     "user_tz": -240,
     "elapsed": 1084,
     "user": {
      "displayName": "Hadelin de Ponteves",
      "photoUrl": "https://lh3.googleusercontent.com/a-/AOh14GhEuXdT7eQweUmRPW8_laJuPggSK6hfvpl5a6WBaA=s64",
      "userId": "15047218817161520419"
     }
    }
   },
   "source": [
    "from sklearn.linear_model import  LinearRegression\n",
    "lin_reg = LinearRegression()\n",
    "lin_reg.fit(X, y)"
   ],
   "execution_count": 12,
   "outputs": [
    {
     "data": {
      "text/plain": "LinearRegression()"
     },
     "execution_count": 12,
     "metadata": {},
     "output_type": "execute_result"
    }
   ]
  },
  {
   "cell_type": "markdown",
   "metadata": {
    "id": "Rb5nWuSHEfBV",
    "colab_type": "text"
   },
   "source": [
    "## Training the Polynomial Regression model on the whole dataset\n",
    "#### Adding new features to linear regressor"
   ]
  },
  {
   "cell_type": "code",
   "metadata": {
    "id": "HYplp4pTEm0O",
    "colab_type": "code",
    "outputId": "4c3c03dd-0def-4584-a893-aa2e72629e8f",
    "executionInfo": {
     "status": "ok",
     "timestamp": 1587538038634,
     "user_tz": -240,
     "elapsed": 693,
     "user": {
      "displayName": "Hadelin de Ponteves",
      "photoUrl": "https://lh3.googleusercontent.com/a-/AOh14GhEuXdT7eQweUmRPW8_laJuPggSK6hfvpl5a6WBaA=s64",
      "userId": "15047218817161520419"
     }
    },
    "colab": {
     "base_uri": "https://localhost:8080/",
     "height": 35
    }
   },
   "source": [
    "from sklearn.preprocessing import PolynomialFeatures\n",
    "\n",
    "poly_reg = PolynomialFeatures(degree = 4)\n",
    "X_poly = poly_reg.fit_transform(X)\n",
    "polinomialRegressor = LinearRegression()\n",
    "polinomialRegressor.fit(X_poly, y)"
   ],
   "execution_count": 13,
   "outputs": [
    {
     "data": {
      "text/plain": "LinearRegression()"
     },
     "execution_count": 13,
     "metadata": {},
     "output_type": "execute_result"
    }
   ]
  },
  {
   "cell_type": "markdown",
   "metadata": {
    "id": "0O8R0tzbEpvy",
    "colab_type": "text"
   },
   "source": [
    "## Visualising the Linear Regression results"
   ]
  },
  {
   "cell_type": "code",
   "metadata": {
    "id": "dcTIBAEdEyve",
    "colab_type": "code",
    "colab": {
     "base_uri": "https://localhost:8080/",
     "height": 295
    },
    "outputId": "c242f259-d9e6-442a-f026-79dffab85972",
    "executionInfo": {
     "status": "ok",
     "timestamp": 1587538041090,
     "user_tz": -240,
     "elapsed": 753,
     "user": {
      "displayName": "Hadelin de Ponteves",
      "photoUrl": "https://lh3.googleusercontent.com/a-/AOh14GhEuXdT7eQweUmRPW8_laJuPggSK6hfvpl5a6WBaA=s64",
      "userId": "15047218817161520419"
     }
    }
   },
   "source": [
    "plt.scatter(X, y, color = 'purple')\n",
    "plt.plot(X, lin_reg.predict(X) , color = 'blue')\n",
    "plt.title('Truth or Bluff(linear)')\n",
    "plt.xlabel('Position Level')\n",
    "plt.ylabel('salary')\n",
    "plt.show()\n"
   ],
   "execution_count": 14,
   "outputs": [
    {
     "data": {
      "text/plain": "<Figure size 432x288 with 1 Axes>",
      "image/png": "[encoded data removed]"
     },
     "metadata": {
      "needs_background": "light"
     },
     "output_type": "display_data"
    }
   ]
  },
  {
   "cell_type": "markdown",
   "metadata": {
    "id": "stOnSo74E52m",
    "colab_type": "text"
   },
   "source": [
    "## Visualising the Polynomial Regression results"
   ]
  },
  {
   "cell_type": "code",
   "metadata": {
    "id": "UCOcurIQE7Zv",
    "colab_type": "code",
    "colab": {
     "base_uri": "https://localhost:8080/",
     "height": 295
    },
    "outputId": "93927499-de98-4a31-a619-c373926cbe56",
    "executionInfo": {
     "status": "ok",
     "timestamp": 1587538044032,
     "user_tz": -240,
     "elapsed": 827,
     "user": {
      "displayName": "Hadelin de Ponteves",
      "photoUrl": "https://lh3.googleusercontent.com/a-/AOh14GhEuXdT7eQweUmRPW8_laJuPggSK6hfvpl5a6WBaA=s64",
      "userId": "15047218817161520419"
     }
    }
   },
   "source": [
    "plt.scatter(X, y, color = 'purple')\n",
    "plt.plot(X, polinomialRegressor.predict(poly_reg.fit_transform(X)), color = 'blue')\n",
    "plt.title('Truth or Bluff(liniar)')\n",
    "plt.xlabel('Position Level')\n",
    "plt.ylabel('salary')\n",
    "plt.show()"
   ],
   "execution_count": 15,
   "outputs": [
    {
     "data": {
      "text/plain": "<Figure size 432x288 with 1 Axes>",
      "image/png": "[encoded data removed]"
     },
     "metadata": {
      "needs_background": "light"
     },
     "output_type": "display_data"
    }
   ]
  },
  {
   "cell_type": "markdown",
   "metadata": {
    "id": "U_qsAMKnE-PJ",
    "colab_type": "text"
   },
   "source": [
    "## Visualising the Polynomial Regression results (for higher resolution and smoother curve)"
   ]
  },
  {
   "cell_type": "code",
   "metadata": {
    "id": "iE6EnC3fFClE",
    "colab_type": "code",
    "colab": {
     "base_uri": "https://localhost:8080/",
     "height": 295
    },
    "outputId": "6ecb5687-3c8a-4b46-db4a-c4955c24b9de",
    "executionInfo": {
     "status": "ok",
     "timestamp": 1587538047267,
     "user_tz": -240,
     "elapsed": 1035,
     "user": {
      "displayName": "Hadelin de Ponteves",
      "photoUrl": "https://lh3.googleusercontent.com/a-/AOh14GhEuXdT7eQweUmRPW8_laJuPggSK6hfvpl5a6WBaA=s64",
      "userId": "15047218817161520419"
     }
    }
   },
   "source": [
    "X_grid = np.arange(min(X), max(X), 0.1)\n",
    "X_grid = X_grid.reshape((len(X_grid), 1))\n",
    "plt.scatter(X, y, color = 'red')\n",
    "plt.plot(X_grid, polinomialRegressor.predict(poly_reg.fit_transform(X_grid)), color = 'blue')\n",
    "plt.title('Truth or Bluff (Polynomial Regression)')\n",
    "plt.xlabel('Position level')\n",
    "plt.ylabel('Salary')\n",
    "plt.show()\n"
   ],
   "execution_count": 16,
   "outputs": [
    {
     "data": {
      "text/plain": "<Figure size 432x288 with 1 Axes>",
      "image/png": "[encoded data removed]"
     },
     "metadata": {
      "needs_background": "light"
     },
     "output_type": "display_data"
    }
   ]
  },
  {
   "cell_type": "markdown",
   "metadata": {
    "id": "diyJFZHhFFeK",
    "colab_type": "text"
   },
   "source": [
    "## Predicting a new result with Linear Regression"
   ]
  },
  {
   "cell_type": "code",
   "metadata": {
    "id": "Blmp6Hn7FJW6",
    "colab_type": "code",
    "colab": {
     "base_uri": "https://localhost:8080/",
     "height": 35
    },
    "outputId": "f01610bc-b077-4df0-cae4-ea37c8b0037f",
    "executionInfo": {
     "status": "ok",
     "timestamp": 1587538054192,
     "user_tz": -240,
     "elapsed": 872,
     "user": {
      "displayName": "Hadelin de Ponteves",
      "photoUrl": "https://lh3.googleusercontent.com/a-/AOh14GhEuXdT7eQweUmRPW8_laJuPggSK6hfvpl5a6WBaA=s64",
      "userId": "15047218817161520419"
     }
    }
   },
   "source": [
    "lin_reg.predict([[6.5]])"
   ],
   "execution_count": 17,
   "outputs": [
    {
     "data": {
      "text/plain": "array([330378.78787879])"
     },
     "execution_count": 17,
     "metadata": {},
     "output_type": "execute_result"
    }
   ]
  },
  {
   "cell_type": "markdown",
   "metadata": {
    "id": "DW7I7ZVDFNkk",
    "colab_type": "text"
   },
   "source": [
    "## Predicting a new result with Polynomial Regression"
   ]
  },
  {
   "cell_type": "code",
   "metadata": {
    "id": "uQmtnyTHFRGG",
    "colab_type": "code",
    "colab": {
     "base_uri": "https://localhost:8080/",
     "height": 35
    },
    "outputId": "2739bf8a-6dfb-4226-b200-252ee8857097",
    "executionInfo": {
     "status": "ok",
     "timestamp": 1587538056906,
     "user_tz": -240,
     "elapsed": 774,
     "user": {
      "displayName": "Hadelin de Ponteves",
      "photoUrl": "https://lh3.googleusercontent.com/a-/AOh14GhEuXdT7eQweUmRPW8_laJuPggSK6hfvpl5a6WBaA=s64",
      "userId": "15047218817161520419"
     }
    }
   },
   "source": [
    "polinomialRegressor.predict(poly_reg.fit_transform([[6.5]]))"
   ],
   "execution_count": 18,
   "outputs": [
    {
     "data": {
      "text/plain": "array([158862.45265153])"
     },
     "execution_count": 18,
     "metadata": {},
     "output_type": "execute_result"
    }
   ]
  }
 ]
}